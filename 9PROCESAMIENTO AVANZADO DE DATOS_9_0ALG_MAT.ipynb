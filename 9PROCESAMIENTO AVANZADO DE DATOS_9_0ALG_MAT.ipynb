{
 "cells": [
  {
   "cell_type": "markdown",
   "metadata": {
    "slideshow": {
     "slide_type": "slide"
    }
   },
   "source": [
    "<h1 align=\"center\">PROCESAMIENTO AVANZADO DE DATOS Y EXTRACIÓN DE PATRONES</h1>\n",
    "\n",
    "\n",
    "\n",
    "<h1 align=\"center\">Julio 2022</h1>\n",
    "Universidad Técnica de Cotopaxi<br><br>\n",
    "MONITOREO Y MEDICIONES DE LOS SISTEMAS ELÉCTRICOS<br><br>\n",
    "MAESTRÍA EN ELECTRICIDAD<br>\n",
    "MENCIÓN SISTEMAS ELÉCTRICOS DE POTENCIA<br><br>\n",
    "Ing. Diego Aguas, Mgs.\n",
    "\n",
    "<img src=\"pics/gif1.gif\" align=\"center\" width=\"1000\">"
   ]
  },
  {
   "cell_type": "markdown",
   "metadata": {
    "slideshow": {
     "slide_type": "slide"
    }
   },
   "source": [
    "# ALGEBRA MATRICIAL "
   ]
  },
  {
   "cell_type": "markdown",
   "metadata": {
    "scrolled": true,
    "slideshow": {
     "slide_type": "subslide"
    }
   },
   "source": [
    "## EJERCICIO 1 \n",
    "\n",
    "### Dado los tres vectores a=(1,2); b=(2,1); c=(-2,1)\n",
    "\n",
    "### a) Representar en el plano R2"
   ]
  },
  {
   "cell_type": "code",
   "execution_count": 1,
   "metadata": {
    "scrolled": true,
    "slideshow": {
     "slide_type": "subslide"
    }
   },
   "outputs": [
    {
     "data": {
      "image/png": "[encoded data removed]",
      "text/plain": [
       "<Figure size 432x288 with 1 Axes>"
      ]
     },
     "metadata": {
      "needs_background": "light"
     },
     "output_type": "display_data"
    }
   ],
   "source": [
    "import numpy as np\n",
    "import matplotlib.pyplot as plt\n",
    "import numpy.linalg as LA\n",
    "import math as m\n",
    "\n",
    "a=np.array([[1],[2]])\n",
    "b=np.array([[2],[1]])\n",
    "c=np.array([[-2],[1]])\n",
    "\n",
    "x=np.array([a[0],b[0],c[0]])\n",
    "y=np.array([a[1],b[1],c[1]])\n",
    "\n",
    "plt.plot(x,y,'ro')\n",
    "plt.grid(True)"
   ]
  },
  {
   "cell_type": "markdown",
   "metadata": {
    "slideshow": {
     "slide_type": "subslide"
    }
   },
   "source": [
    "### b) Calcular los vectores suma y diferencia"
   ]
  },
  {
   "cell_type": "code",
   "execution_count": null,
   "metadata": {
    "slideshow": {
     "slide_type": "subslide"
    }
   },
   "outputs": [],
   "source": [
    "suma=a+b\n",
    "resta=a-b\n",
    "\n",
    "print('suma='+str(suma))\n",
    "print('resta='+str(resta))\n"
   ]
  },
  {
   "cell_type": "markdown",
   "metadata": {
    "slideshow": {
     "slide_type": "subslide"
    }
   },
   "source": [
    "### b) Calcular la norma"
   ]
  },
  {
   "cell_type": "code",
   "execution_count": null,
   "metadata": {
    "slideshow": {
     "slide_type": "subslide"
    }
   },
   "outputs": [],
   "source": [
    "norma_a=LA.norm(a)\n",
    "norma_b=LA.norm(b)\n",
    "norma_c=LA.norm(c)\n",
    "norma_c=round(norma_c, 2)\n",
    "\n",
    "print(norma_c)\n",
    "print('Norma_vectorC='+str(norma_c))"
   ]
  },
  {
   "cell_type": "markdown",
   "metadata": {
    "slideshow": {
     "slide_type": "subslide"
    }
   },
   "source": [
    "### b) Calcular los productos escalares ab, bc, ac "
   ]
  },
  {
   "cell_type": "code",
   "execution_count": null,
   "metadata": {
    "slideshow": {
     "slide_type": "subslide"
    }
   },
   "outputs": [],
   "source": [
    "ab=np.sum(np.multiply(a,b))\n",
    "bc=np.sum(np.multiply(b,c))\n",
    "ac=np.sum(np.multiply(a,c))\n",
    "\n",
    "print(ab,bc,ac)\n",
    "\n"
   ]
  },
  {
   "cell_type": "code",
   "execution_count": null,
   "metadata": {
    "slideshow": {
     "slide_type": "subslide"
    }
   },
   "outputs": [],
   "source": [
    "teta_ab=m.acos((np.transpose(np.matrix(a))*np.matrix(b))/(norma_a*norma_b))*180/3.1416 \n",
    "\n",
    "print('teta_ab='+str(teta_ab))"
   ]
  },
  {
   "cell_type": "markdown",
   "metadata": {
    "slideshow": {
     "slide_type": "subslide"
    }
   },
   "source": [
    "### c) Calcular la proyección de A sobre B"
   ]
  },
  {
   "cell_type": "code",
   "execution_count": null,
   "metadata": {
    "slideshow": {
     "slide_type": "subslide"
    }
   },
   "outputs": [],
   "source": [
    "a=np.matrix(a)\n",
    "b=np.matrix(b)\n",
    "\n",
    "Ab=float(np.transpose(a)*b/(np.transpose(b)*b))*b\n",
    "\n",
    "print(Ab)\n",
    "\n"
   ]
  },
  {
   "cell_type": "markdown",
   "metadata": {
    "slideshow": {
     "slide_type": "subslide"
    }
   },
   "source": [
    "## EJERCICIO 2\n",
    "\n",
    "### En $R^3$ se demonima base canónica a la formada por los vectores a=(1,0,0); b=(0,1,0); c=(0,0,1)"
   ]
  },
  {
   "cell_type": "code",
   "execution_count": null,
   "metadata": {
    "slideshow": {
     "slide_type": "subslide"
    }
   },
   "outputs": [],
   "source": [
    "d=np.matrix([[1],[1],[2]])\n",
    "dx=np.matrix([[1],[0],[0]])\n",
    "dy=np.matrix([[0],[1],[0]])\n",
    "dz=np.matrix([[0],[0],[1]])"
   ]
  },
  {
   "cell_type": "markdown",
   "metadata": {
    "slideshow": {
     "slide_type": "subslide"
    }
   },
   "source": [
    "### b) Calcular la proyección del vector d sobre cada uno de los vectores de la base canónica"
   ]
  },
  {
   "cell_type": "code",
   "execution_count": null,
   "metadata": {
    "slideshow": {
     "slide_type": "subslide"
    }
   },
   "outputs": [],
   "source": [
    "d_dx=float(np.transpose(d)*dx/(np.transpose(dx)*dx))*dx\n",
    "d_dy=float(np.transpose(d)*dy/(np.transpose(dy)*dy))*dy\n",
    "d_dz=float(np.transpose(d)*dz/(np.transpose(dz)*dz))*dz\n",
    "\n",
    "print('d_dx='+str(d_dx))\n",
    "print('d_dy='+str(d_dy))\n",
    "print('d_dz='+str(d_dz))"
   ]
  },
  {
   "cell_type": "markdown",
   "metadata": {
    "slideshow": {
     "slide_type": "subslide"
    }
   },
   "source": [
    "### c) Calcular el coseno del ángulo entre el vector d y los vectores de la base canónica"
   ]
  },
  {
   "cell_type": "code",
   "execution_count": null,
   "metadata": {
    "slideshow": {
     "slide_type": "subslide"
    }
   },
   "outputs": [],
   "source": [
    "norma_d=m.sqrt(np.transpose(d)*d)\n",
    "norma_dx=m.sqrt(np.transpose(dx)*dx)\n",
    "norma_dy=m.sqrt(np.transpose(dy)*dy)\n",
    "norma_dz=m.sqrt(np.transpose(dz)*dz)\n",
    "\n",
    "cos_d_dx=(np.transpose(d)*dx)/(norma_d*norma_dx)\n",
    "cos_d_dy=(np.transpose(d)*dy)/(norma_d*norma_dy)\n",
    "cos_d_dz=(np.transpose(d)*dz)/(norma_d*norma_dz)\n",
    "\n",
    "print('cos_d_dx='+str(cos_d_dx))\n",
    "print('cos_d_dy='+str(cos_d_dy))\n",
    "print('cos_d_dz='+str(cos_d_dz))\n",
    "\n"
   ]
  },
  {
   "cell_type": "markdown",
   "metadata": {
    "slideshow": {
     "slide_type": "subslide"
    }
   },
   "source": [
    "## EJERCICIO 3\n",
    "\n",
    "### Dada la matriz rectangular A = [(1,1);(0,1);2,2)]\n",
    "### Calcular la matriz A'A, su determinante y traza.\n"
   ]
  },
  {
   "cell_type": "code",
   "execution_count": null,
   "metadata": {
    "slideshow": {
     "slide_type": "subslide"
    }
   },
   "outputs": [],
   "source": [
    "import numpy.linalg as LA\n",
    "\n",
    "A=np.matrix([[1,1],[0,1],[2,2]])\n",
    "At_A=np.transpose(A)*A\n",
    "print ('At_A='+str(At_A))"
   ]
  },
  {
   "cell_type": "code",
   "execution_count": null,
   "metadata": {
    "slideshow": {
     "slide_type": "subslide"
    }
   },
   "outputs": [],
   "source": [
    "detAt_A=LA.det(At_A)\n",
    "print('detAt_A='+str(detAt_A))"
   ]
  },
  {
   "cell_type": "code",
   "execution_count": null,
   "metadata": {
    "slideshow": {
     "slide_type": "subslide"
    }
   },
   "outputs": [],
   "source": [
    "traAt_A=np.trace(At_A) \n",
    "print('traAt_A='+str(traAt_A))\n"
   ]
  },
  {
   "cell_type": "markdown",
   "metadata": {
    "slideshow": {
     "slide_type": "subslide"
    }
   },
   "source": [
    "## EJERCICIO 4\n",
    "\n",
    "### Demostrar que la matriz A es ortogonal. Aplicarla al vector b=(1,1)\n"
   ]
  },
  {
   "cell_type": "markdown",
   "metadata": {
    "slideshow": {
     "slide_type": "subslide"
    }
   },
   "source": [
    "### Ortogonal A*At = I"
   ]
  },
  {
   "cell_type": "code",
   "execution_count": null,
   "metadata": {
    "slideshow": {
     "slide_type": "subslide"
    }
   },
   "outputs": [],
   "source": [
    "a=(m.sqrt(2))/2\n",
    "A=np.matrix([[a,-a],[a,a]])\n",
    "\n",
    "A_At=A*np.transpose(A)\n",
    "print(A_At)"
   ]
  },
  {
   "cell_type": "code",
   "execution_count": null,
   "metadata": {
    "slideshow": {
     "slide_type": "subslide"
    }
   },
   "outputs": [],
   "source": [
    "b=np.matrix([[1],[1]])\n",
    "Ab=A*b\n",
    "print(Ab)"
   ]
  },
  {
   "cell_type": "markdown",
   "metadata": {
    "slideshow": {
     "slide_type": "subslide"
    }
   },
   "source": [
    "## EJERCICIO 6,7,8\n",
    "\n",
    "### Calcular los vectores y valores propios de la matriz A=[(2,1);(1,2)]"
   ]
  },
  {
   "cell_type": "code",
   "execution_count": null,
   "metadata": {
    "slideshow": {
     "slide_type": "subslide"
    }
   },
   "outputs": [],
   "source": [
    "A=np.matrix([[2,1],[1,2]])\n",
    "l,u=LA.eig(A)\n",
    "\n",
    "print('Valores_propios='+str(l))\n",
    "print('Vectores propios='+str(u))\n"
   ]
  },
  {
   "cell_type": "markdown",
   "metadata": {
    "slideshow": {
     "slide_type": "subslide"
    }
   },
   "source": [
    "### Escribir la respresentación espectral de la matriz A"
   ]
  },
  {
   "cell_type": "code",
   "execution_count": null,
   "metadata": {
    "slideshow": {
     "slide_type": "subslide"
    }
   },
   "outputs": [],
   "source": [
    "repreA=u*np.diag(l)*np.transpose(u) # A=U*D*U'\n",
    "print(repreA)"
   ]
  },
  {
   "cell_type": "markdown",
   "metadata": {
    "slideshow": {
     "slide_type": "subslide"
    }
   },
   "source": [
    "### Calcular los vectores y valores propios de la matriz A^-1"
   ]
  },
  {
   "cell_type": "code",
   "execution_count": null,
   "metadata": {
    "slideshow": {
     "slide_type": "subslide"
    }
   },
   "outputs": [],
   "source": [
    "invA=LA.inv(A)\n",
    "l1,u1=LA.eig(invA)\n",
    "\n",
    "print('Valores_propios='+str(l1))\n",
    "print('Vectores propios='+str(u1))\n",
    "\n"
   ]
  },
  {
   "cell_type": "code",
   "execution_count": null,
   "metadata": {},
   "outputs": [],
   "source": []
  }
 ],
 "metadata": {
  "celltoolbar": "Slideshow",
  "kernelspec": {
   "display_name": "Python 3 (ipykernel)",
   "language": "python",
   "name": "python3"
  },
  "language_info": {
   "codemirror_mode": {
    "name": "ipython",
    "version": 3
   },
   "file_extension": ".py",
   "mimetype": "text/x-python",
   "name": "python",
   "nbconvert_exporter": "python",
   "pygments_lexer": "ipython3",
   "version": "3.9.7"
  }
 },
 "nbformat": 4,
 "nbformat_minor": 4
}
